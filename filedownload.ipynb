{
 "cells": [
  {
   "cell_type": "code",
   "execution_count": 1,
   "id": "greater-breath",
   "metadata": {},
   "outputs": [
    {
     "name": "stdout",
     "output_type": "stream",
     "text": [
      "Downloading 1rPKqFrcG7FqJlYkbbwYEMHdI3O72ImPl into ../Dataset/Original_images.zip... Done.\n",
      "Unzipping...Done.\n"
     ]
    }
   ],
   "source": [
    "from google_drive_downloader import GoogleDriveDownloader as gdd\n",
    "\n",
    "gdd.download_file_from_google_drive(file_id='1rR0RcLCBICYh9g7Ii79YvQqrQE7LHdRT',\n",
    "            dest_path='./kaggle.json',\n",
    "            unzip=True)"
   ]
  },
  {
   "cell_type": "code",
   "execution_count": null,
   "id": "becoming-clearance",
   "metadata": {},
   "outputs": [],
   "source": []
  }
 ],
 "metadata": {
  "kernelspec": {
   "display_name": "Python 3",
   "language": "python",
   "name": "python3"
  },
  "language_info": {
   "codemirror_mode": {
    "name": "ipython",
    "version": 3
   },
   "file_extension": ".py",
   "mimetype": "text/x-python",
   "name": "python",
   "nbconvert_exporter": "python",
   "pygments_lexer": "ipython3",
   "version": "3.8.8"
  }
 },
 "nbformat": 4,
 "nbformat_minor": 5
}
